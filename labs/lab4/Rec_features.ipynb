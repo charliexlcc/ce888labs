{
 "cells": [
  {
   "cell_type": "markdown",
   "metadata": {
    "slideshow": {
     "slide_type": "slide"
    }
   },
   "source": [
    "# Hybrid Models for Recommendation Systems"
   ]
  },
  {
   "cell_type": "markdown",
   "metadata": {
    "slideshow": {
     "slide_type": "slide"
    }
   },
   "source": [
    "Load Pandas, we are going to need it for manipulating data"
   ]
  },
  {
   "cell_type": "code",
   "execution_count": 1,
   "metadata": {
    "slideshow": {
     "slide_type": "fragment"
    }
   },
   "outputs": [],
   "source": [
    "import pandas as pd\n",
    "import numpy as np\n",
    "from IPython.display import Image\n",
    "np.set_printoptions(precision = 3)"
   ]
  },
  {
   "cell_type": "markdown",
   "metadata": {
    "slideshow": {
     "slide_type": "slide"
    }
   },
   "source": [
    "Now load the data"
   ]
  },
  {
   "cell_type": "code",
   "execution_count": 2,
   "metadata": {
    "slideshow": {
     "slide_type": "fragment"
    }
   },
   "outputs": [
    {
     "name": "stdout",
     "output_type": "stream",
     "text": [
      "\\begin{tabular}{lrrrrrrrl}\n",
      "\\toprule\n",
      "Empty DataFrame\n",
      "Columns: Index(['Sex', ' Over60', 'key', 'user\\_id', 'Critic0', ' Critic1', 'item\\_id',\n",
      "       'rating'],\n",
      "      dtype='object')\n",
      "Index: Int64Index([], dtype='int64') \\\\\n",
      "\\bottomrule\n",
      "\\end{tabular}\n",
      "\n"
     ]
    }
   ],
   "source": [
    "user_ratings_df = pd.read_csv(\"user_ratings.csv\")\n",
    "user_features_df = pd.read_csv(\"user_features.csv\")\n",
    "item_features_df = pd.read_csv(\"item_features.csv\")\n",
    "\n",
    "\n",
    "user_features_df[\"key\"] = 0\n",
    "user_features_df[\"user_id\"] = range(0,user_features_df.shape[0])\n",
    "item_features_df[\"key\"] = 0\n",
    "item_features_df[\"item_id\"] = range(0,item_features_df.shape[0])\n",
    "\n",
    "merged_df = pd.merge(user_features_df, item_features_df,left_index=True,on=\"key\")\n",
    "merged_df[[\"item_id\", \"user_id\"]]\n",
    "\n",
    "\n",
    "\n",
    "\n",
    "merged_df[\"rating\"] = map(lambda ids: user_ratings_df.values[ids[1]][ids[2]], \n",
    "                          merged_df[[\"user_id\", \"item_id\"]].itertuples())\n",
    "\n",
    "train = merged_df.dropna()\n",
    "\n",
    "test = merged_df[merged_df.isnull().any(axis=1)]\n",
    "\n",
    "print(test.to_latex())\n",
    "\n"
   ]
  },
  {
   "cell_type": "code",
   "execution_count": 3,
   "metadata": {
    "slideshow": {
     "slide_type": "slide"
    }
   },
   "outputs": [
    {
     "name": "stdout",
     "output_type": "stream",
     "text": [
      "\\begin{tabular}{lrrrr}\n",
      "\\toprule\n",
      "{} &  Critic0 &   Critic1 &  key &  item\\_id \\\\\n",
      "\\midrule\n",
      "0 &      0.3 &       0.9 &    0 &        0 \\\\\n",
      "1 &      0.9 &       0.3 &    0 &        1 \\\\\n",
      "2 &      0.6 &       0.4 &    0 &        2 \\\\\n",
      "3 &      0.2 &       0.1 &    0 &        3 \\\\\n",
      "4 &      0.7 &       0.8 &    0 &        4 \\\\\n",
      "\\bottomrule\n",
      "\\end{tabular}\n",
      "\n"
     ]
    }
   ],
   "source": [
    "n_latent_features = 2\n",
    "\n",
    "user_ratings = user_ratings_df.values\n",
    "latent_user_preferences = np.random.random((user_ratings.shape[0], n_latent_features))\n",
    "latent_item_features = np.random.random((user_ratings.shape[1],n_latent_features))\n",
    "\n",
    "user_features = user_features_df.values\n",
    "item_features = item_features_df.values\n",
    "\n",
    "print(item_features_df.to_latex())\n",
    "\n",
    "\n",
    "user_features = np.concatenate([np.ones(shape = (user_features.shape[0],1)), user_features], axis = 1)\n",
    "item_features = np.concatenate([np.ones(shape = (item_features.shape[0],1)), item_features], axis = 1)\n",
    "\n",
    "\n",
    "\n",
    "user_features_weights = np.random.random((user_ratings.shape[0], user_features.shape[1] ))\n",
    "item_features_weights = np.random.random((user_ratings.shape[1],item_features.shape[1] ))\n",
    "\n",
    "\n",
    "\n",
    "# print user_features"
   ]
  },
  {
   "cell_type": "code",
   "execution_count": 4,
   "metadata": {
    "slideshow": {
     "slide_type": "slide"
    }
   },
   "outputs": [],
   "source": [
    "def predict_rating(user_id,item_id):\n",
    "    \"\"\" Predict a rating given a user_id and an item_id.\n",
    "    \"\"\"\n",
    "    user_preference = latent_user_preferences[user_id]\n",
    "    item_preference = latent_item_features[item_id]\n",
    "    \n",
    "    user_score = user_features_weights[user_id].dot(user_features[user_id])\n",
    "    item_score = item_features_weights[item_id].dot(item_features[item_id])\n",
    "    #print user_preference.dot(item_preference), user_score, item_score\n",
    "    return user_preference.dot(item_preference) + user_score + item_score\n",
    "\n",
    "def train(user_id, item_id, rating,alpha = 0.001, \n",
    "                                   latent_feature_weight_decay = 0.1, \n",
    "                                   user_weight_decay = 0.01,\n",
    "                                   item_weight_decay = 0.0001):\n",
    "    \n",
    "    #print item_id\n",
    "    prediction_rating = predict_rating(user_id, item_id)\n",
    "    err =  ( prediction_rating - rating );\n",
    "    #print err\n",
    "    user_pref_values = latent_user_preferences[user_id][:]\n",
    "    latent_user_preferences[user_id] -= alpha * err *  ( latent_item_features[item_id] + latent_feature_weight_decay*latent_user_preferences[user_id])\n",
    "    latent_item_features[item_id] -= alpha * err * ( user_pref_values + latent_feature_weight_decay*latent_item_features[item_id])\n",
    "    \n",
    "    user_features_weights[user_id] -=alpha * err *(  user_features[user_id] + user_weight_decay* user_features_weights[user_id])\n",
    "    item_features_weights[item_id] -=alpha * err * ( item_features_weights[item_id] + item_weight_decay* item_features_weights[item_id])\n",
    "    \n",
    "    \n",
    "    return err\n",
    "    \n",
    "\n",
    "\n",
    "def sgd(iterations = 30000):\n",
    "    \"\"\" Iterate over all users and all items and train for \n",
    "        a certain number of iterations\n",
    "    \"\"\"\n",
    "    for iteration in range(0,iterations):\n",
    "        error = []\n",
    "        for user_id in range(0,latent_user_preferences.shape[0]):\n",
    "            for item_id in range(0,latent_item_features.shape[0]):\n",
    "                rating = user_ratings[user_id][item_id]\n",
    "                if(not np.isnan(rating)):\n",
    "                    err = train(user_id,item_id,rating)\n",
    "                    error.append(err)\n",
    "    mse = (np.array(error) ** 2).mean()          \n",
    "    print(mse)\n",
    "                    \n",
    "                    \n",
    "    \n",
    "                    \n",
    "                    \n",
    "    \n"
   ]
  },
  {
   "cell_type": "code",
   "execution_count": 5,
   "metadata": {
    "slideshow": {
     "slide_type": "fragment"
    }
   },
   "outputs": [
    {
     "name": "stdout",
     "output_type": "stream",
     "text": [
      "0.2931272535455705\n",
      "0.2849261260120561\n",
      "0.28196944081753644\n",
      "0.28048081525235463\n",
      "0.2795891023269882\n",
      "0.27899959986178596\n",
      "0.278585715312818\n",
      "0.27828407907841585\n",
      "0.2780594661187231\n",
      "0.2778907706635918\n"
     ]
    }
   ],
   "source": [
    "for _ in range(0,10): \n",
    "    sgd()"
   ]
  },
  {
   "cell_type": "code",
   "execution_count": 6,
   "metadata": {
    "slideshow": {
     "slide_type": "slide"
    }
   },
   "outputs": [
    {
     "name": "stdout",
     "output_type": "stream",
     "text": [
      "[[-1.28  -1.483  0.342  0.092  0.126]\n",
      " [ 2.255  0.262  2.218  0.638  2.293]\n",
      " [ 0.816  0.88   0.125  0.759  0.52 ]\n",
      " [ 0.047  0.468  0.48   0.291  0.843]\n",
      " [ 0.509  0.76   0.288  0.104 -0.276]\n",
      " [ 0.543  0.496  0.628  0.192  1.11 ]\n",
      " [-0.102  0.397  0.62   0.996 -0.238]\n",
      " [ 0.095  0.534  0.85   0.49   0.065]\n",
      " [ 0.895  0.643  0.916  0.636  0.627]\n",
      " [ 0.492  0.555  0.732  0.078 -0.329]]\n",
      "[[2.214e-01 1.382e+00 2.100e+00 9.092e-01 1.010e+00]\n",
      " [4.628e-04 1.025e-03 8.193e-04 5.922e-04 8.507e-04]\n",
      " [1.286e+00 4.013e+00 2.513e+00 1.483e+00 3.446e+00]\n",
      " [5.245e-01 1.720e-01 2.202e+00 1.915e+00 5.835e-01]\n",
      " [6.167e-01 5.718e-01 4.536e-01 7.796e-01 1.858e+00]]\n"
     ]
    }
   ],
   "source": [
    "predictions = np.zeros(shape = (latent_user_preferences.shape[0], latent_item_features.shape[0]) )\n",
    "#print latent_user_preferences\n",
    "print(user_features_weights)\n",
    "print(item_features_weights)\n",
    "for user_id in range(0,latent_user_preferences.shape[0]):\n",
    "            for item_id in range(0,latent_item_features.shape[0]):\n",
    "                predictions[user_id,item_id] =  predict_rating(user_id,item_id)"
   ]
  },
  {
   "cell_type": "code",
   "execution_count": 7,
   "metadata": {
    "slideshow": {
     "slide_type": "slide"
    }
   },
   "outputs": [
    {
     "data": {
      "text/html": [
       "<div>\n",
       "<style scoped>\n",
       "    .dataframe tbody tr th:only-of-type {\n",
       "        vertical-align: middle;\n",
       "    }\n",
       "\n",
       "    .dataframe tbody tr th {\n",
       "        vertical-align: top;\n",
       "    }\n",
       "\n",
       "    .dataframe thead th {\n",
       "        text-align: right;\n",
       "    }\n",
       "</style>\n",
       "<table border=\"1\" class=\"dataframe\">\n",
       "  <thead>\n",
       "    <tr style=\"text-align: right;\">\n",
       "      <th></th>\n",
       "      <th>The Call of Cthulhu</th>\n",
       "      <th>Frankenstein</th>\n",
       "      <th>Dracula</th>\n",
       "      <th>Neuromancer</th>\n",
       "      <th>Space Odyssey</th>\n",
       "    </tr>\n",
       "  </thead>\n",
       "  <tbody>\n",
       "    <tr>\n",
       "      <th>0</th>\n",
       "      <td>(8.000|7.990)</td>\n",
       "      <td>(2.000|2.029)</td>\n",
       "      <td>(nan|-20.961)</td>\n",
       "      <td>(5.000|4.987)</td>\n",
       "      <td>(4.000|3.996)</td>\n",
       "    </tr>\n",
       "    <tr>\n",
       "      <th>1</th>\n",
       "      <td>(3.000|2.900)</td>\n",
       "      <td>(2.000|2.560)</td>\n",
       "      <td>(nan|65.261)</td>\n",
       "      <td>(7.000|6.618)</td>\n",
       "      <td>(7.000|6.924)</td>\n",
       "    </tr>\n",
       "    <tr>\n",
       "      <th>2</th>\n",
       "      <td>(9.000|9.045)</td>\n",
       "      <td>(nan|4.359)</td>\n",
       "      <td>(7.000|7.003)</td>\n",
       "      <td>(8.000|7.950)</td>\n",
       "      <td>(5.000|5.001)</td>\n",
       "    </tr>\n",
       "    <tr>\n",
       "      <th>3</th>\n",
       "      <td>(nan|8.967)</td>\n",
       "      <td>(nan|4.929)</td>\n",
       "      <td>(7.000|7.000)</td>\n",
       "      <td>(8.000|8.000)</td>\n",
       "      <td>(9.000|9.000)</td>\n",
       "    </tr>\n",
       "    <tr>\n",
       "      <th>4</th>\n",
       "      <td>(nan|3.805)</td>\n",
       "      <td>(1.000|0.569)</td>\n",
       "      <td>(8.000|7.990)</td>\n",
       "      <td>(3.000|3.371)</td>\n",
       "      <td>(7.000|7.054)</td>\n",
       "    </tr>\n",
       "    <tr>\n",
       "      <th>5</th>\n",
       "      <td>(2.000|2.002)</td>\n",
       "      <td>(3.000|2.994)</td>\n",
       "      <td>(5.000|5.000)</td>\n",
       "      <td>(nan|2.298)</td>\n",
       "      <td>(nan|32.354)</td>\n",
       "    </tr>\n",
       "    <tr>\n",
       "      <th>6</th>\n",
       "      <td>(4.000|4.308)</td>\n",
       "      <td>(2.000|0.436)</td>\n",
       "      <td>(nan|-3.680)</td>\n",
       "      <td>(2.000|3.000)</td>\n",
       "      <td>(7.000|7.205)</td>\n",
       "    </tr>\n",
       "    <tr>\n",
       "      <th>7</th>\n",
       "      <td>(7.000|6.762)</td>\n",
       "      <td>(1.000|2.906)</td>\n",
       "      <td>(2.000|2.082)</td>\n",
       "      <td>(7.000|5.662)</td>\n",
       "      <td>(9.000|8.760)</td>\n",
       "    </tr>\n",
       "    <tr>\n",
       "      <th>8</th>\n",
       "      <td>(3.000|3.101)</td>\n",
       "      <td>(3.000|2.518)</td>\n",
       "      <td>(nan|73.846)</td>\n",
       "      <td>(7.000|7.291)</td>\n",
       "      <td>(3.000|3.061)</td>\n",
       "    </tr>\n",
       "    <tr>\n",
       "      <th>9</th>\n",
       "      <td>(4.000|3.890)</td>\n",
       "      <td>(nan|-0.148)</td>\n",
       "      <td>(5.000|4.984)</td>\n",
       "      <td>(3.000|3.112)</td>\n",
       "      <td>(3.000|2.997)</td>\n",
       "    </tr>\n",
       "  </tbody>\n",
       "</table>\n",
       "</div>"
      ],
      "text/plain": [
       "  The Call of Cthulhu   Frankenstein        Dracula    Neuromancer  \\\n",
       "0       (8.000|7.990)  (2.000|2.029)  (nan|-20.961)  (5.000|4.987)   \n",
       "1       (3.000|2.900)  (2.000|2.560)   (nan|65.261)  (7.000|6.618)   \n",
       "2       (9.000|9.045)    (nan|4.359)  (7.000|7.003)  (8.000|7.950)   \n",
       "3         (nan|8.967)    (nan|4.929)  (7.000|7.000)  (8.000|8.000)   \n",
       "4         (nan|3.805)  (1.000|0.569)  (8.000|7.990)  (3.000|3.371)   \n",
       "5       (2.000|2.002)  (3.000|2.994)  (5.000|5.000)    (nan|2.298)   \n",
       "6       (4.000|4.308)  (2.000|0.436)   (nan|-3.680)  (2.000|3.000)   \n",
       "7       (7.000|6.762)  (1.000|2.906)  (2.000|2.082)  (7.000|5.662)   \n",
       "8       (3.000|3.101)  (3.000|2.518)   (nan|73.846)  (7.000|7.291)   \n",
       "9       (4.000|3.890)   (nan|-0.148)  (5.000|4.984)  (3.000|3.112)   \n",
       "\n",
       "   Space Odyssey  \n",
       "0  (4.000|3.996)  \n",
       "1  (7.000|6.924)  \n",
       "2  (5.000|5.001)  \n",
       "3  (9.000|9.000)  \n",
       "4  (7.000|7.054)  \n",
       "5   (nan|32.354)  \n",
       "6  (7.000|7.205)  \n",
       "7  (9.000|8.760)  \n",
       "8  (3.000|3.061)  \n",
       "9  (3.000|2.997)  "
      ]
     },
     "execution_count": 7,
     "metadata": {},
     "output_type": "execute_result"
    }
   ],
   "source": [
    "values = [zip(user_ratings[i], predictions[i]) for i in range(0,predictions.shape[0])]\n",
    "comparison_data = pd.DataFrame(values)\n",
    "comparison_data.columns = user_ratings_df.columns\n",
    "#comparison_data.applymap(lambda (x,y): \"(%2.3f|%2.3f)\"%(x,y))\n",
    "comparison_data.applymap(lambda x: \"(%2.3f|%2.3f)\"%(x[0],x[1]))"
   ]
  },
  {
   "cell_type": "code",
   "execution_count": 8,
   "metadata": {
    "slideshow": {
     "slide_type": "fragment"
    }
   },
   "outputs": [
    {
     "data": {
      "text/html": [
       "<div>\n",
       "<style scoped>\n",
       "    .dataframe tbody tr th:only-of-type {\n",
       "        vertical-align: middle;\n",
       "    }\n",
       "\n",
       "    .dataframe tbody tr th {\n",
       "        vertical-align: top;\n",
       "    }\n",
       "\n",
       "    .dataframe thead th {\n",
       "        text-align: right;\n",
       "    }\n",
       "</style>\n",
       "<table border=\"1\" class=\"dataframe\">\n",
       "  <thead>\n",
       "    <tr style=\"text-align: right;\">\n",
       "      <th></th>\n",
       "      <th>The Call of Cthulhu</th>\n",
       "      <th>Frankenstein</th>\n",
       "      <th>Dracula</th>\n",
       "      <th>Neuromancer</th>\n",
       "      <th>Space Odyssey</th>\n",
       "    </tr>\n",
       "  </thead>\n",
       "  <tbody>\n",
       "    <tr>\n",
       "      <th>0</th>\n",
       "      <td>(8.0, 7.989602873024069)</td>\n",
       "      <td>(2.0, 2.0291029128940883)</td>\n",
       "      <td>(nan, -20.96102991173411)</td>\n",
       "      <td>(5.0, 4.987020693742167)</td>\n",
       "      <td>(4.0, 3.9962986410473373)</td>\n",
       "    </tr>\n",
       "    <tr>\n",
       "      <th>1</th>\n",
       "      <td>(3.0, 2.900361687539126)</td>\n",
       "      <td>(2.0, 2.5597259518651727)</td>\n",
       "      <td>(nan, 65.26112672135585)</td>\n",
       "      <td>(7.0, 6.6175197072609695)</td>\n",
       "      <td>(7.0, 6.924387908287665)</td>\n",
       "    </tr>\n",
       "    <tr>\n",
       "      <th>2</th>\n",
       "      <td>(9.0, 9.045213352914493)</td>\n",
       "      <td>(nan, 4.359252353129258)</td>\n",
       "      <td>(7.0, 7.003133526725603)</td>\n",
       "      <td>(8.0, 7.950326143402647)</td>\n",
       "      <td>(5.0, 5.000995060021739)</td>\n",
       "    </tr>\n",
       "    <tr>\n",
       "      <th>3</th>\n",
       "      <td>(nan, 8.967238728955103)</td>\n",
       "      <td>(nan, 4.929342596193918)</td>\n",
       "      <td>(7.0, 6.9999989767697866)</td>\n",
       "      <td>(8.0, 8.000192350514219)</td>\n",
       "      <td>(9.0, 8.999562485763736)</td>\n",
       "    </tr>\n",
       "    <tr>\n",
       "      <th>4</th>\n",
       "      <td>(nan, 3.8045879946841787)</td>\n",
       "      <td>(1.0, 0.5685577534842259)</td>\n",
       "      <td>(8.0, 7.989594478325586)</td>\n",
       "      <td>(3.0, 3.370756098386226)</td>\n",
       "      <td>(7.0, 7.054013181609645)</td>\n",
       "    </tr>\n",
       "    <tr>\n",
       "      <th>5</th>\n",
       "      <td>(2.0, 2.0018662731013603)</td>\n",
       "      <td>(3.0, 2.9941025264709253)</td>\n",
       "      <td>(5.0, 4.999989981817055)</td>\n",
       "      <td>(nan, 2.2984482440077305)</td>\n",
       "      <td>(nan, 32.3535258930083)</td>\n",
       "    </tr>\n",
       "    <tr>\n",
       "      <th>6</th>\n",
       "      <td>(4.0, 4.308150725423932)</td>\n",
       "      <td>(2.0, 0.4362127180416085)</td>\n",
       "      <td>(nan, -3.679604481776364)</td>\n",
       "      <td>(2.0, 3.0000437304236076)</td>\n",
       "      <td>(7.0, 7.205286841305711)</td>\n",
       "    </tr>\n",
       "    <tr>\n",
       "      <th>7</th>\n",
       "      <td>(7.0, 6.762415307260097)</td>\n",
       "      <td>(1.0, 2.905867011909204)</td>\n",
       "      <td>(2.0, 2.081969188916272)</td>\n",
       "      <td>(7.0, 5.661924954157573)</td>\n",
       "      <td>(9.0, 8.759785253421503)</td>\n",
       "    </tr>\n",
       "    <tr>\n",
       "      <th>8</th>\n",
       "      <td>(3.0, 3.1014499631808277)</td>\n",
       "      <td>(3.0, 2.517904775569736)</td>\n",
       "      <td>(nan, 73.84588701061976)</td>\n",
       "      <td>(7.0, 7.2912955215817465)</td>\n",
       "      <td>(3.0, 3.061476092345093)</td>\n",
       "    </tr>\n",
       "    <tr>\n",
       "      <th>9</th>\n",
       "      <td>(4.0, 3.8898193867389255)</td>\n",
       "      <td>(nan, -0.1484848918282188)</td>\n",
       "      <td>(5.0, 4.983745828599943)</td>\n",
       "      <td>(3.0, 3.112152300133614)</td>\n",
       "      <td>(3.0, 2.9966619153949114)</td>\n",
       "    </tr>\n",
       "  </tbody>\n",
       "</table>\n",
       "</div>"
      ],
      "text/plain": [
       "         The Call of Cthulhu                Frankenstein  \\\n",
       "0   (8.0, 7.989602873024069)   (2.0, 2.0291029128940883)   \n",
       "1   (3.0, 2.900361687539126)   (2.0, 2.5597259518651727)   \n",
       "2   (9.0, 9.045213352914493)    (nan, 4.359252353129258)   \n",
       "3   (nan, 8.967238728955103)    (nan, 4.929342596193918)   \n",
       "4  (nan, 3.8045879946841787)   (1.0, 0.5685577534842259)   \n",
       "5  (2.0, 2.0018662731013603)   (3.0, 2.9941025264709253)   \n",
       "6   (4.0, 4.308150725423932)   (2.0, 0.4362127180416085)   \n",
       "7   (7.0, 6.762415307260097)    (1.0, 2.905867011909204)   \n",
       "8  (3.0, 3.1014499631808277)    (3.0, 2.517904775569736)   \n",
       "9  (4.0, 3.8898193867389255)  (nan, -0.1484848918282188)   \n",
       "\n",
       "                     Dracula                Neuromancer  \\\n",
       "0  (nan, -20.96102991173411)   (5.0, 4.987020693742167)   \n",
       "1   (nan, 65.26112672135585)  (7.0, 6.6175197072609695)   \n",
       "2   (7.0, 7.003133526725603)   (8.0, 7.950326143402647)   \n",
       "3  (7.0, 6.9999989767697866)   (8.0, 8.000192350514219)   \n",
       "4   (8.0, 7.989594478325586)   (3.0, 3.370756098386226)   \n",
       "5   (5.0, 4.999989981817055)  (nan, 2.2984482440077305)   \n",
       "6  (nan, -3.679604481776364)  (2.0, 3.0000437304236076)   \n",
       "7   (2.0, 2.081969188916272)   (7.0, 5.661924954157573)   \n",
       "8   (nan, 73.84588701061976)  (7.0, 7.2912955215817465)   \n",
       "9   (5.0, 4.983745828599943)   (3.0, 3.112152300133614)   \n",
       "\n",
       "               Space Odyssey  \n",
       "0  (4.0, 3.9962986410473373)  \n",
       "1   (7.0, 6.924387908287665)  \n",
       "2   (5.0, 5.000995060021739)  \n",
       "3   (9.0, 8.999562485763736)  \n",
       "4   (7.0, 7.054013181609645)  \n",
       "5    (nan, 32.3535258930083)  \n",
       "6   (7.0, 7.205286841305711)  \n",
       "7   (9.0, 8.759785253421503)  \n",
       "8   (3.0, 3.061476092345093)  \n",
       "9  (3.0, 2.9966619153949114)  "
      ]
     },
     "execution_count": 8,
     "metadata": {},
     "output_type": "execute_result"
    }
   ],
   "source": [
    "comparison_data"
   ]
  },
  {
   "cell_type": "code",
   "execution_count": 9,
   "metadata": {},
   "outputs": [],
   "source": [
    "d = comparison_data.to_latex()\n",
    "text_file = open(\"comparison.txt\", \"w\")\n",
    "text_file.write(d)\n",
    "text_file.close()"
   ]
  }
 ],
 "metadata": {
  "kernelspec": {
   "display_name": "Python 3",
   "language": "python",
   "name": "python3"
  },
  "language_info": {
   "codemirror_mode": {
    "name": "ipython",
    "version": 3
   },
   "file_extension": ".py",
   "mimetype": "text/x-python",
   "name": "python",
   "nbconvert_exporter": "python",
   "pygments_lexer": "ipython3",
   "version": "3.6.5"
  }
 },
 "nbformat": 4,
 "nbformat_minor": 1
}
