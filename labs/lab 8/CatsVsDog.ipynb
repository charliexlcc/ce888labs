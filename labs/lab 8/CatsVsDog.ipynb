{
 "cells": [
  {
   "cell_type": "markdown",
   "metadata": {},
   "source": [
    "##### The Dogs vs. Cats dataset that you’ll use isn’t packaged with Keras. It was made available by Kaggle as part of a computer-vision competition in late 2013, back when convnets weren’t mainstream. You can download the original dataset from www.kaggle.com/c/dogs-vs-cats/data (you’ll need to create a Kaggle account if you don’t already have one—don’t worry, the process is painless)."
   ]
  },
  {
   "cell_type": "markdown",
   "metadata": {},
   "source": [
    "Unsurprisingly, the dogs-versus-cats Kaggle competition in 2013 was won by entrants who used convnets. The best entries achieved up to 95% accuracy. In this example, you’ll get fairly close to this accuracy (in the next section), even though you’ll train\n",
    "your models on less than 10% of the data that was available to the competitors. This dataset contains 25,000 images of dogs and cats (12,500 from each class) and is 543 MB (compressed). After downloading and uncompressing it, you’ll create a new dataset containing three subsets: a training set with 1,000 samples of each class, a validation set with 500 samples of each class, and a test set with 500 samples of each class."
   ]
  },
  {
   "cell_type": "code",
   "execution_count": 1,
   "metadata": {},
   "outputs": [],
   "source": [
    "import os, shutil\n",
    "original_dataset_dir = 'M:\\Labs\\DataScience\\ce888labs\\labs\\lab8\\dogs-vs-cats'"
   ]
  },
  {
   "cell_type": "code",
   "execution_count": 2,
   "metadata": {},
   "outputs": [],
   "source": [
    "base_dir = 'M:\\Labs\\DataScience\\ce888labs\\labs\\lab8\\cats_and_dogs_small'\n",
    "os.mkdir(base_dir)"
   ]
  },
  {
   "cell_type": "code",
   "execution_count": 3,
   "metadata": {},
   "outputs": [],
   "source": [
    "train_dir = os.path.join(base_dir, 'train')\n",
    "os.mkdir(train_dir)\n",
    "\n",
    "validation_dir = os.path.join(base_dir, 'validation')\n",
    "os.mkdir(validation_dir)\n",
    "\n",
    "test_dir = os.path.join(base_dir, 'test')\n",
    "os.mkdir(test_dir)\n",
    "\n",
    "train_cats_dir = os.path.join(train_dir, 'cats')\n",
    "os.mkdir(train_cats_dir)\n",
    "\n",
    "train_dogs_dir = os.path.join(train_dir, 'dogs')\n",
    "os.mkdir(train_dogs_dir)\n",
    "\n",
    "validation_cats_dir = os.path.join(validation_dir, 'cats')\n",
    "os.mkdir(validation_cats_dir)\n",
    "\n",
    "validation_dogs_dir = os.path.join(validation_dir, 'dogs')\n",
    "os.mkdir(validation_dogs_dir)\n",
    "\n",
    "test_cats_dir = os.path.join(test_dir, 'cats')\n",
    "os.mkdir(test_cats_dir)\n",
    "\n",
    "test_dogs_dir = os.path.join(test_dir, 'dogs')\n",
    "os.mkdir(test_dogs_dir)"
   ]
  },
  {
   "cell_type": "code",
   "execution_count": 4,
   "metadata": {},
   "outputs": [],
   "source": [
    "fnames = ['cat.{}.jpg'.format(i) for i in range(1000)]\n",
    "for fname in fnames:\n",
    "    src = os.path.join(original_dataset_dir, fname)\n",
    "    dst = os.path.join(train_cats_dir, fname)\n",
    "    #print(src,dst)\n",
    "    shutil.copyfile(src, dst)\n",
    "    \n",
    "fnames = ['cat.{}.jpg'.format(i) for i in range(1000, 1500)]\n",
    "for fname in fnames:\n",
    "    src = os.path.join(original_dataset_dir, fname)\n",
    "    dst = os.path.join(validation_cats_dir, fname)\n",
    "    shutil.copyfile(src, dst)\n",
    "\n",
    "fnames = ['cat.{}.jpg'.format(i) for i in range(1500, 2000)]\n",
    "for fname in fnames:\n",
    "    src = os.path.join(original_dataset_dir, fname)\n",
    "    dst = os.path.join(test_cats_dir, fname)\n",
    "    shutil.copyfile(src, dst)\n",
    "    \n",
    "fnames = ['dog.{}.jpg'.format(i) for i in range(1000)]\n",
    "for fname in fnames:\n",
    "    src = os.path.join(original_dataset_dir, fname)\n",
    "    dst = os.path.join(train_dogs_dir, fname)\n",
    "    shutil.copyfile(src, dst)\n",
    "\n",
    "fnames = ['dog.{}.jpg'.format(i) for i in range(1000, 1500)]\n",
    "for fname in fnames:\n",
    "    src = os.path.join(original_dataset_dir, fname)\n",
    "    dst = os.path.join(validation_dogs_dir, fname)\n",
    "    shutil.copyfile(src, dst)\n",
    "\n",
    "fnames = ['dog.{}.jpg'.format(i) for i in range(1500, 2000)]\n",
    "for fname in fnames:\n",
    "    src = os.path.join(original_dataset_dir, fname)\n",
    "    dst = os.path.join(test_dogs_dir, fname)\n",
    "    shutil.copyfile(src, dst)"
   ]
  },
  {
   "cell_type": "code",
   "execution_count": 5,
   "metadata": {},
   "outputs": [
    {
     "name": "stdout",
     "output_type": "stream",
     "text": [
      "total training cat images: 1000\n",
      "total training dog images: 1000\n",
      "total validation cat images: 500\n",
      "total validation dog images: 500\n",
      "total test cat images: 500\n",
      "total test dog images: 500\n"
     ]
    }
   ],
   "source": [
    "print('total training cat images:', len(os.listdir(train_cats_dir)))\n",
    "print('total training dog images:', len(os.listdir(train_dogs_dir)))\n",
    "print('total validation cat images:', len(os.listdir(validation_cats_dir)))\n",
    "\n",
    "print('total validation dog images:', len(os.listdir(validation_dogs_dir)))\n",
    "print('total test cat images:', len(os.listdir(test_cats_dir)))\n",
    "print('total test dog images:', len(os.listdir(test_dogs_dir)))\n"
   ]
  },
  {
   "cell_type": "code",
   "execution_count": 6,
   "metadata": {},
   "outputs": [
    {
     "name": "stderr",
     "output_type": "stream",
     "text": [
      "Using TensorFlow backend.\n"
     ]
    },
    {
     "name": "stdout",
     "output_type": "stream",
     "text": [
      "_________________________________________________________________\n",
      "Layer (type)                 Output Shape              Param #   \n",
      "=================================================================\n",
      "conv2d_1 (Conv2D)            (None, 148, 148, 32)      896       \n",
      "_________________________________________________________________\n",
      "max_pooling2d_1 (MaxPooling2 (None, 74, 74, 32)        0         \n",
      "_________________________________________________________________\n",
      "conv2d_2 (Conv2D)            (None, 72, 72, 64)        18496     \n",
      "_________________________________________________________________\n",
      "max_pooling2d_2 (MaxPooling2 (None, 36, 36, 64)        0         \n",
      "_________________________________________________________________\n",
      "conv2d_3 (Conv2D)            (None, 34, 34, 128)       73856     \n",
      "_________________________________________________________________\n",
      "max_pooling2d_3 (MaxPooling2 (None, 17, 17, 128)       0         \n",
      "_________________________________________________________________\n",
      "conv2d_4 (Conv2D)            (None, 15, 15, 128)       147584    \n",
      "_________________________________________________________________\n",
      "max_pooling2d_4 (MaxPooling2 (None, 7, 7, 128)         0         \n",
      "_________________________________________________________________\n",
      "flatten_1 (Flatten)          (None, 6272)              0         \n",
      "_________________________________________________________________\n",
      "dense_1 (Dense)              (None, 512)               3211776   \n",
      "_________________________________________________________________\n",
      "dense_2 (Dense)              (None, 1)                 513       \n",
      "=================================================================\n",
      "Total params: 3,453,121\n",
      "Trainable params: 3,453,121\n",
      "Non-trainable params: 0\n",
      "_________________________________________________________________\n"
     ]
    }
   ],
   "source": [
    "from keras import layers\n",
    "from keras import models\n",
    "\n",
    "model = models.Sequential()\n",
    "model.add(layers.Conv2D(32, (3, 3), activation='relu', input_shape=(150, 150, 3)))\n",
    "model.add(layers.MaxPooling2D((2, 2)))\n",
    "model.add(layers.Conv2D(64, (3, 3), activation='relu'))\n",
    "model.add(layers.MaxPooling2D((2, 2)))\n",
    "model.add(layers.Conv2D(128, (3, 3), activation='relu'))\n",
    "model.add(layers.MaxPooling2D((2, 2)))\n",
    "model.add(layers.Conv2D(128, (3, 3), activation='relu'))\n",
    "model.add(layers.MaxPooling2D((2, 2)))\n",
    "model.add(layers.Flatten())\n",
    "model.add(layers.Dense(512, activation='relu'))\n",
    "model.add(layers.Dense(1, activation='sigmoid'))\n",
    "model.summary()"
   ]
  },
  {
   "cell_type": "code",
   "execution_count": 7,
   "metadata": {},
   "outputs": [],
   "source": [
    "from keras import optimizers\n",
    "model.compile(loss='binary_crossentropy', \n",
    "              optimizer=optimizers.RMSprop(lr=1e-4),\n",
    "              metrics=['acc'])"
   ]
  },
  {
   "cell_type": "markdown",
   "metadata": {},
   "source": [
    "## Using ImageDataGenerator to read images from directories"
   ]
  },
  {
   "cell_type": "markdown",
   "metadata": {},
   "source": [
    "As you know by now, data should be formatted into appropriately preprocessed floatingpoint tensors before being fed\n",
    "into the network. Currently, the data sits on a drive as JPEG files, so the steps for getting it into the network\n",
    "are roughly as follows:\n",
    "    \n",
    "1. Read the picture files.\n",
    "2. Decode the JPEG content to RGB grids of pixels.\n",
    "3. Convert these into floating-point tensors.\n",
    "4. Rescale the pixel values (between 0 and 255) to the [0, 1] interval (as you know, neural networks prefer to deal with small input values).\n",
    "\n",
    "It may seem a bit daunting, but fortunately Keras has utilities to take care of these steps automatically. Keras has a module with image-processing helper tools, located at keras.preprocessing.image. In particular, it contains the class ImageDataGenerator,which lets you quickly set up Python generators that can automatically turn image files\n",
    "on disk into batches of preprocessed tensors."
   ]
  },
  {
   "cell_type": "code",
   "execution_count": 8,
   "metadata": {},
   "outputs": [
    {
     "name": "stdout",
     "output_type": "stream",
     "text": [
      "Found 2000 images belonging to 2 classes.\n",
      "Found 1000 images belonging to 2 classes.\n"
     ]
    }
   ],
   "source": [
    "from keras.preprocessing.image import ImageDataGenerator\n",
    "\n",
    "train_datagen = ImageDataGenerator(rescale=1./255)\n",
    "test_datagen = ImageDataGenerator(rescale=1./255)\n",
    "\n",
    "train_generator = train_datagen.flow_from_directory(train_dir,\n",
    "                                                    target_size=(150, 150), \n",
    "                                                    batch_size=20,\n",
    "                                                    class_mode='binary')\n",
    "\n",
    "validation_generator = test_datagen.flow_from_directory(validation_dir,\n",
    "                                                        target_size=(150, 150),\n",
    "                                                        batch_size=20,\n",
    "                                                        class_mode='binary')"
   ]
  },
  {
   "cell_type": "markdown",
   "metadata": {},
   "source": [
    "Let’s fit the model to the data using the `generator`. You do so using the `fit_generator` method, the equivalent of `fit` for\n",
    "data generators like this one. It expects as its first argument a Python generator that will yield batches of inputs and\n",
    "targets indefinitely,like this one does. Because the data is being generated endlessly, the Keras model needs to know how\n",
    "many samples to draw from the generator before declaring anepoch over. This is the role of the `steps_per_epoch` argument:\n",
    "after having drawn `steps_per_epoch` batches from the generator—that is, after having run for `steps_per_epoch` gradient descent steps—the fitting process will go to the next epoch. In this case, batches are 20 samples, so it will take 100 batches until \n",
    "you see your target of 2,000 samples.\n",
    "\n",
    "When using `fit_generator`, you can pass a `validation_data` argument, much as with the fit method. It’s important to note that \n",
    "this argument is allowed to be a data generator, but it could also be a tuple of Numpy arrays. If you pass a generator as `validation_data`, then this generator is expected to yield batches of validation data endlessly; thus you should also specify\n",
    "the `validation_steps` argument, which tells the process how many batches to draw from the validation generator for evaluation."
   ]
  },
  {
   "cell_type": "code",
   "execution_count": 9,
   "metadata": {},
   "outputs": [
    {
     "name": "stdout",
     "output_type": "stream",
     "text": [
      "Epoch 1/30\n",
      "100/100 [==============================] - 88s 878ms/step - loss: 0.6829 - acc: 0.5565 - val_loss: 0.6832 - val_acc: 0.5500\n",
      "Epoch 2/30\n",
      "100/100 [==============================] - 80s 805ms/step - loss: 0.6528 - acc: 0.6210 - val_loss: 0.6955 - val_acc: 0.5600\n",
      "Epoch 3/30\n",
      "100/100 [==============================] - 80s 801ms/step - loss: 0.6049 - acc: 0.6610 - val_loss: 0.6347 - val_acc: 0.6200\n",
      "Epoch 4/30\n",
      "100/100 [==============================] - 81s 810ms/step - loss: 0.5645 - acc: 0.7005 - val_loss: 0.6679 - val_acc: 0.5900\n",
      "Epoch 5/30\n",
      "100/100 [==============================] - 81s 808ms/step - loss: 0.5406 - acc: 0.7275 - val_loss: 0.6131 - val_acc: 0.6500\n",
      "Epoch 6/30\n",
      "100/100 [==============================] - 79s 794ms/step - loss: 0.5150 - acc: 0.7340 - val_loss: 0.6034 - val_acc: 0.6700\n",
      "Epoch 7/30\n",
      "100/100 [==============================] - 81s 810ms/step - loss: 0.4923 - acc: 0.7570 - val_loss: 0.6311 - val_acc: 0.6250\n",
      "Epoch 8/30\n",
      "100/100 [==============================] - 80s 803ms/step - loss: 0.4628 - acc: 0.7790 - val_loss: 0.6540 - val_acc: 0.6950\n",
      "Epoch 9/30\n",
      "100/100 [==============================] - 81s 809ms/step - loss: 0.4344 - acc: 0.7965 - val_loss: 0.7100 - val_acc: 0.6100\n",
      "Epoch 10/30\n",
      "100/100 [==============================] - 82s 818ms/step - loss: 0.4170 - acc: 0.8145 - val_loss: 0.6634 - val_acc: 0.6850\n",
      "Epoch 11/30\n",
      "100/100 [==============================] - 82s 823ms/step - loss: 0.3836 - acc: 0.8245 - val_loss: 0.6735 - val_acc: 0.6650\n",
      "Epoch 12/30\n",
      "100/100 [==============================] - 80s 802ms/step - loss: 0.3665 - acc: 0.8355 - val_loss: 0.6335 - val_acc: 0.6850\n",
      "Epoch 13/30\n",
      "100/100 [==============================] - 80s 803ms/step - loss: 0.3400 - acc: 0.8570 - val_loss: 0.6933 - val_acc: 0.6600\n",
      "Epoch 14/30\n",
      "100/100 [==============================] - 80s 802ms/step - loss: 0.3267 - acc: 0.8600 - val_loss: 0.5978 - val_acc: 0.6950\n",
      "Epoch 15/30\n",
      "100/100 [==============================] - 80s 798ms/step - loss: 0.2949 - acc: 0.8740 - val_loss: 0.7797 - val_acc: 0.6800\n",
      "Epoch 16/30\n",
      "100/100 [==============================] - 80s 802ms/step - loss: 0.2789 - acc: 0.8780 - val_loss: 0.7722 - val_acc: 0.6400\n",
      "Epoch 17/30\n",
      "100/100 [==============================] - 80s 799ms/step - loss: 0.2529 - acc: 0.9005 - val_loss: 0.7509 - val_acc: 0.6600\n",
      "Epoch 18/30\n",
      "100/100 [==============================] - 82s 820ms/step - loss: 0.2304 - acc: 0.9110 - val_loss: 0.7098 - val_acc: 0.6800\n",
      "Epoch 19/30\n",
      "100/100 [==============================] - 80s 799ms/step - loss: 0.2131 - acc: 0.9185 - val_loss: 0.8495 - val_acc: 0.6800\n",
      "Epoch 20/30\n",
      "100/100 [==============================] - 81s 808ms/step - loss: 0.1890 - acc: 0.9255 - val_loss: 0.7503 - val_acc: 0.6600\n",
      "Epoch 21/30\n",
      "100/100 [==============================] - 80s 802ms/step - loss: 0.1773 - acc: 0.9315 - val_loss: 0.8186 - val_acc: 0.6650\n",
      "Epoch 22/30\n",
      "100/100 [==============================] - 82s 815ms/step - loss: 0.1549 - acc: 0.9425 - val_loss: 0.8924 - val_acc: 0.6900\n",
      "Epoch 23/30\n",
      "100/100 [==============================] - 81s 810ms/step - loss: 0.1482 - acc: 0.9495 - val_loss: 0.9008 - val_acc: 0.6550\n",
      "Epoch 24/30\n",
      "100/100 [==============================] - 80s 801ms/step - loss: 0.1304 - acc: 0.9455 - val_loss: 0.9437 - val_acc: 0.6300\n",
      "Epoch 25/30\n",
      "100/100 [==============================] - 81s 808ms/step - loss: 0.1235 - acc: 0.9575 - val_loss: 1.2015 - val_acc: 0.6550\n",
      "Epoch 26/30\n",
      "100/100 [==============================] - 80s 799ms/step - loss: 0.1140 - acc: 0.9550 - val_loss: 0.9888 - val_acc: 0.6700\n",
      "Epoch 27/30\n",
      "100/100 [==============================] - 81s 811ms/step - loss: 0.0886 - acc: 0.9680 - val_loss: 1.0374 - val_acc: 0.6500\n",
      "Epoch 28/30\n",
      "100/100 [==============================] - 81s 808ms/step - loss: 0.0851 - acc: 0.9715 - val_loss: 1.3616 - val_acc: 0.6450\n",
      "Epoch 29/30\n",
      "100/100 [==============================] - 81s 809ms/step - loss: 0.0865 - acc: 0.9665 - val_loss: 1.4388 - val_acc: 0.6200\n",
      "Epoch 30/30\n",
      "100/100 [==============================] - 81s 814ms/step - loss: 0.0769 - acc: 0.9680 - val_loss: 1.3428 - val_acc: 0.6400\n"
     ]
    }
   ],
   "source": [
    "history = model.fit_generator(train_generator,\n",
    "                              steps_per_epoch=100,\n",
    "                              epochs=30,\n",
    "                              validation_data=validation_generator,\n",
    "                              validation_steps=10)"
   ]
  },
  {
   "cell_type": "code",
   "execution_count": 10,
   "metadata": {},
   "outputs": [],
   "source": [
    "model.save('cats_and_dogs_small_1.h5')"
   ]
  },
  {
   "cell_type": "code",
   "execution_count": 11,
   "metadata": {},
   "outputs": [
    {
     "data": {
      "text/plain": [
       "<Figure size 640x480 with 1 Axes>"
      ]
     },
     "metadata": {},
     "output_type": "display_data"
    },
    {
     "data": {
      "text/plain": [
       "<Figure size 640x480 with 1 Axes>"
      ]
     },
     "metadata": {},
     "output_type": "display_data"
    }
   ],
   "source": [
    "import matplotlib.pyplot as plt\n",
    "\n",
    "acc = history.history['acc']\n",
    "val_acc = history.history['val_acc']\n",
    "loss = history.history['loss']\n",
    "val_loss = history.history['val_loss']\n",
    "\n",
    "epochs = range(1, len(acc) + 1)\n",
    "\n",
    "plt.plot(epochs, acc, 'bo', label='Training acc')\n",
    "plt.plot(epochs, val_acc, 'b', label='Validation acc')\n",
    "plt.title('Training and validation accuracy')\n",
    "plt.legend()\n",
    "\n",
    "plt.figure()\n",
    "\n",
    "plt.plot(epochs, loss, 'bo', label='Training loss')\n",
    "plt.plot(epochs, val_loss, 'b', label='Validation loss')\n",
    "plt.title('Training and validation loss')\n",
    "plt.legend()\n",
    "\n",
    "plt.show()"
   ]
  },
  {
   "cell_type": "markdown",
   "metadata": {},
   "source": [
    "## Convolutional Networks with Dropout"
   ]
  },
  {
   "cell_type": "code",
   "execution_count": 12,
   "metadata": {},
   "outputs": [],
   "source": [
    "model = models.Sequential()\n",
    "model.add(layers.Conv2D(32, (3, 3), activation='relu',\n",
    "input_shape=(150, 150, 3)))\n",
    "model.add(layers.MaxPooling2D((2, 2)))\n",
    "model.add(layers.Conv2D(64, (3, 3), activation='relu'))\n",
    "model.add(layers.MaxPooling2D((2, 2)))\n",
    "model.add(layers.Conv2D(128, (3, 3), activation='relu'))\n",
    "model.add(layers.MaxPooling2D((2, 2)))\n",
    "model.add(layers.Conv2D(128, (3, 3), activation='relu'))\n",
    "model.add(layers.MaxPooling2D((2, 2)))\n",
    "model.add(layers.Flatten())\n",
    "model.add(layers.Dropout(0.5))\n",
    "model.add(layers.Dense(512, activation='relu'))\n",
    "model.add(layers.Dense(1, activation='sigmoid'))\n",
    "\n",
    "model.compile(loss='binary_crossentropy',\n",
    "              optimizer=optimizers.RMSprop(lr=1e-4),\n",
    "              metrics=['acc'])"
   ]
  },
  {
   "cell_type": "code",
   "execution_count": 13,
   "metadata": {},
   "outputs": [
    {
     "name": "stdout",
     "output_type": "stream",
     "text": [
      "Found 2000 images belonging to 2 classes.\n",
      "Found 1000 images belonging to 2 classes.\n",
      "Epoch 1/20\n",
      "100/100 [==============================] - 153s 2s/step - loss: 0.6928 - acc: 0.5147 - val_loss: 0.6750 - val_acc: 0.5603\n",
      "Epoch 2/20\n",
      "100/100 [==============================] - 142s 1s/step - loss: 0.6798 - acc: 0.5625 - val_loss: 0.6592 - val_acc: 0.6015\n",
      "Epoch 3/20\n",
      "100/100 [==============================] - 143s 1s/step - loss: 0.6665 - acc: 0.5891 - val_loss: 0.6383 - val_acc: 0.6231\n",
      "Epoch 4/20\n",
      "100/100 [==============================] - 143s 1s/step - loss: 0.6597 - acc: 0.6044 - val_loss: 0.6235 - val_acc: 0.6440\n",
      "Epoch 5/20\n",
      "100/100 [==============================] - 141s 1s/step - loss: 0.6401 - acc: 0.6259 - val_loss: 0.6045 - val_acc: 0.6675\n",
      "Epoch 6/20\n",
      "100/100 [==============================] - 142s 1s/step - loss: 0.6271 - acc: 0.6413 - val_loss: 0.6268 - val_acc: 0.6332\n",
      "Epoch 7/20\n",
      "100/100 [==============================] - 143s 1s/step - loss: 0.6269 - acc: 0.6434 - val_loss: 0.6012 - val_acc: 0.6681\n",
      "Epoch 8/20\n",
      "100/100 [==============================] - 142s 1s/step - loss: 0.6224 - acc: 0.6506 - val_loss: 0.5985 - val_acc: 0.6732\n",
      "Epoch 9/20\n",
      "100/100 [==============================] - 143s 1s/step - loss: 0.6114 - acc: 0.6712 - val_loss: 0.5736 - val_acc: 0.6878\n",
      "Epoch 10/20\n",
      "100/100 [==============================] - 143s 1s/step - loss: 0.6001 - acc: 0.6656 - val_loss: 0.6051 - val_acc: 0.6637\n",
      "Epoch 11/20\n",
      "100/100 [==============================] - 142s 1s/step - loss: 0.6091 - acc: 0.6691 - val_loss: 0.5835 - val_acc: 0.6688\n",
      "Epoch 12/20\n",
      "100/100 [==============================] - 143s 1s/step - loss: 0.5994 - acc: 0.6728 - val_loss: 0.5604 - val_acc: 0.6999\n",
      "Epoch 13/20\n",
      "100/100 [==============================] - 142s 1s/step - loss: 0.6030 - acc: 0.6750 - val_loss: 0.6199 - val_acc: 0.6218\n",
      "Epoch 14/20\n",
      "100/100 [==============================] - 142s 1s/step - loss: 0.5816 - acc: 0.6850 - val_loss: 0.6311 - val_acc: 0.6675\n",
      "Epoch 15/20\n",
      "100/100 [==============================] - 143s 1s/step - loss: 0.5939 - acc: 0.6872 - val_loss: 0.6754 - val_acc: 0.6523\n",
      "Epoch 16/20\n",
      "100/100 [==============================] - 142s 1s/step - loss: 0.6020 - acc: 0.6700 - val_loss: 0.5768 - val_acc: 0.6897\n",
      "Epoch 17/20\n",
      "100/100 [==============================] - 142s 1s/step - loss: 0.5896 - acc: 0.6856 - val_loss: 0.5948 - val_acc: 0.6846\n",
      "Epoch 18/20\n",
      "100/100 [==============================] - 146s 1s/step - loss: 0.5837 - acc: 0.6859 - val_loss: 0.6807 - val_acc: 0.6110\n",
      "Epoch 19/20\n",
      "100/100 [==============================] - 142s 1s/step - loss: 0.5932 - acc: 0.6806 - val_loss: 0.5677 - val_acc: 0.6929\n",
      "Epoch 20/20\n",
      "100/100 [==============================] - 141s 1s/step - loss: 0.5778 - acc: 0.6900 - val_loss: 0.5527 - val_acc: 0.6986\n"
     ]
    }
   ],
   "source": [
    "train_datagen = ImageDataGenerator(rescale=1./255,\n",
    "                                   rotation_range=40,\n",
    "                                   width_shift_range=0.2,\n",
    "                                   height_shift_range=0.2,\n",
    "                                   shear_range=0.2,\n",
    "                                   zoom_range=0.2,\n",
    "                                   horizontal_flip=True,)\n",
    "\n",
    "test_datagen = ImageDataGenerator(rescale=1./255)\n",
    "\n",
    "train_generator = train_datagen.flow_from_directory(train_dir,\n",
    "                                                    target_size=(150, 150),\n",
    "                                                    batch_size=32,\n",
    "                                                    class_mode='binary')\n",
    "\n",
    "validation_generator = test_datagen.flow_from_directory(validation_dir,\n",
    "                                                        target_size=(150, 150),\n",
    "                                                        batch_size=32,\n",
    "                                                        class_mode='binary')\n",
    "\n",
    "history = model.fit_generator(train_generator,\n",
    "                              steps_per_epoch=100,\n",
    "                              epochs=20,\n",
    "                              validation_data=validation_generator,\n",
    "                              validation_steps=50)"
   ]
  },
  {
   "cell_type": "code",
   "execution_count": 14,
   "metadata": {},
   "outputs": [
    {
     "data": {
      "image/png": "[encoded data removed]",
      "text/plain": [
       "<Figure size 432x288 with 1 Axes>"
      ]
     },
     "metadata": {},
     "output_type": "display_data"
    },
    {
     "data": {
      "image/png": "[encoded data removed]",
      "text/plain": [
       "<Figure size 432x288 with 1 Axes>"
      ]
     },
     "metadata": {},
     "output_type": "display_data"
    }
   ],
   "source": [
    "import matplotlib.pyplot as plt\n",
    "\n",
    "acc = history.history['acc']\n",
    "val_acc = history.history['val_acc']\n",
    "loss = history.history['loss']\n",
    "val_loss = history.history['val_loss']\n",
    "\n",
    "epochs = range(1, len(acc) + 1)\n",
    "\n",
    "plt.plot(epochs, acc, 'bo', label='Training acc')\n",
    "plt.plot(epochs, val_acc, 'b', label='Validation acc')\n",
    "plt.title('Training and validation accuracy')\n",
    "plt.legend()\n",
    "\n",
    "plt.figure()\n",
    "\n",
    "plt.plot(epochs, loss, 'bo', label='Training loss')\n",
    "plt.plot(epochs, val_loss, 'b', label='Validation loss')\n",
    "plt.title('Training and validation loss')\n",
    "plt.legend()\n",
    "\n",
    "plt.show()"
   ]
  },
  {
   "cell_type": "code",
   "execution_count": null,
   "metadata": {},
   "outputs": [],
   "source": []
  }
 ],
 "metadata": {
  "kernelspec": {
   "display_name": "Python 3",
   "language": "python",
   "name": "python3"
  },
  "language_info": {
   "codemirror_mode": {
    "name": "ipython",
    "version": 3
   },
   "file_extension": ".py",
   "mimetype": "text/x-python",
   "name": "python",
   "nbconvert_exporter": "python",
   "pygments_lexer": "ipython3",
   "version": "3.6.5"
  }
 },
 "nbformat": 4,
 "nbformat_minor": 2
}
